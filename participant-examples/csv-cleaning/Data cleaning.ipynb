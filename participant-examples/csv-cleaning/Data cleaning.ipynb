{
 "cells": [
  {
   "cell_type": "code",
   "execution_count": 1,
   "metadata": {},
   "outputs": [
    {
     "name": "stdout",
     "output_type": "stream",
     "text": [
      "cleaneddata.csv\t\t tahmo_data_correction.ipynb  Untitled.ipynb\r\n",
      "tahmo_Benso_SHSdata.csv  tahmo_data_correction.py\r\n"
     ]
    }
   ],
   "source": [
    "!ls"
   ]
  },
  {
   "cell_type": "code",
   "execution_count": 2,
   "metadata": {},
   "outputs": [
    {
     "name": "stdout",
     "output_type": "stream",
     "text": [
      "/run/media/earlcd/BRAINZ/data_correction\r\n"
     ]
    }
   ],
   "source": [
    "!pwd"
   ]
  },
  {
   "cell_type": "code",
   "execution_count": 33,
   "metadata": {},
   "outputs": [
    {
     "name": "stdout",
     "output_type": "stream",
     "text": [
      "site,name,day,total rainfall (mm),latitude,longitude\r\n",
      "TA00002,Benso SHS,2018-05-15,0,5.1525726,-1.88152258\r\n",
      "TA00002,Benso SHS,2018-05-16,3.11,5.1525726,-1.88152258\r\n",
      "TA00002,Benso SHS,2018-05-17,3.54,5.1525726,-1.88152258\r\n",
      "TA00002,Benso SHS,2018-05-18,0.04,5.1525726,-1.88152258\r\n",
      "TA00002,Benso SHS,2018-05-19,8.37,5.1525726,-1.88152258\r\n",
      "TA00003,Prestea SHTS,2018-05-15,0.79,5.4468564,-2.13392852\r\n",
      "TA00003,Prestea SHTS,2018-05-16,0.25,5.4468564,-2.13392852\r\n",
      "TA00003,Prestea SHTS,2018-05-17,10.13,5.4468564,-2.13392852\r\n",
      "TA00003,Prestea SHTS,2018-05-18,5.58,5.4468564,-2.13392852\r\n"
     ]
    }
   ],
   "source": [
    "!head tahmo_Benso_SHSdata.csv"
   ]
  },
  {
   "cell_type": "code",
   "execution_count": 9,
   "metadata": {},
   "outputs": [],
   "source": [
    "text = open('tahmo_Benso_SHSdata.csv').read()"
   ]
  },
  {
   "cell_type": "code",
   "execution_count": 12,
   "metadata": {},
   "outputs": [],
   "source": [
    "lines = text.split('\\n')"
   ]
  },
  {
   "cell_type": "code",
   "execution_count": 15,
   "metadata": {},
   "outputs": [
    {
     "data": {
      "text/plain": [
       "'site,name,day,total rainfall (mm),latitude,longitude'"
      ]
     },
     "execution_count": 15,
     "metadata": {},
     "output_type": "execute_result"
    }
   ],
   "source": [
    "header = lines[0]\n",
    "header"
   ]
  },
  {
   "cell_type": "code",
   "execution_count": 38,
   "metadata": {},
   "outputs": [],
   "source": [
    "header_items = header.split(',')"
   ]
  },
  {
   "cell_type": "code",
   "execution_count": 20,
   "metadata": {
    "scrolled": true
   },
   "outputs": [
    {
     "name": "stdout",
     "output_type": "stream",
     "text": [
      "[6, 7, 8]\n"
     ]
    }
   ],
   "source": [
    "unique_numbers = []\n",
    "for (n, line) in enumerate(lines):\n",
    "    num_parts = len(line.split(','))\n",
    "    if not num_parts in unique_numbers:\n",
    "        unique_numbers.append(num_parts)\n",
    "    #print(\"{}: {}\".format(n, num_parts))\n",
    "\n",
    "print(unique_numbers)"
   ]
  },
  {
   "cell_type": "code",
   "execution_count": 21,
   "metadata": {},
   "outputs": [
    {
     "name": "stdout",
     "output_type": "stream",
     "text": [
      "TA00002,Benso SHS,2018-05-16,3.11,5.1525726,-1.88152258\n",
      "TA00016,Accra Academy School, Accra,2018-05-15,0,5.5730222,-0.24447074\n",
      "TA00044,Mountain High School, Kona, Ashanti Region,2018-05-19,0,6.851388889,-1.515\n"
     ]
    }
   ],
   "source": [
    "line_good = lines[2]\n",
    "line_bad = lines[71]\n",
    "line_bad2 = lines[105]\n",
    "print(line_good)\n",
    "print(line_bad)\n",
    "print(line_bad2)"
   ]
  },
  {
   "cell_type": "code",
   "execution_count": 19,
   "metadata": {},
   "outputs": [],
   "source": [
    "import re"
   ]
  },
  {
   "cell_type": "code",
   "execution_count": 22,
   "metadata": {},
   "outputs": [],
   "source": [
    "re_pattern = '\\d+-\\d+-\\d+'"
   ]
  },
  {
   "cell_type": "code",
   "execution_count": 26,
   "metadata": {},
   "outputs": [
    {
     "data": {
      "text/plain": [
       "18"
      ]
     },
     "execution_count": 26,
     "metadata": {},
     "output_type": "execute_result"
    }
   ],
   "source": [
    "def find_date_position(s):\n",
    "    matches = list(re.finditer(re_pattern, s))\n",
    "    return matches[0].start()\n",
    "\n"
   ]
  },
  {
   "cell_type": "code",
   "execution_count": 31,
   "metadata": {},
   "outputs": [],
   "source": [
    "def cleanup_line(line):\n",
    "    date_posn = find_date_position(line)\n",
    "    date, rain_amount, lat, lon = line[date_posn:].split(',')\n",
    "    \n",
    "    comma_posn = line.index(',')\n",
    "    \n",
    "    station_name = line[:comma_posn]\n",
    "    location = line[comma_posn+1:date_posn-1]\n",
    "    \n",
    "    return (station_name, location, date, rain_amount, lat, lon)"
   ]
  },
  {
   "cell_type": "code",
   "execution_count": 36,
   "metadata": {},
   "outputs": [],
   "source": [
    "cleaned_lines = []\n",
    "\n",
    "for line in lines[1:]:\n",
    "    cleaned_lines.append(cleanup_line(line))\n"
   ]
  },
  {
   "cell_type": "code",
   "execution_count": 37,
   "metadata": {},
   "outputs": [],
   "source": [
    "import pandas as pd"
   ]
  },
  {
   "cell_type": "code",
   "execution_count": 40,
   "metadata": {},
   "outputs": [],
   "source": [
    "df = pd.DataFrame(data=cleaned_lines, columns=header_items)\n",
    "df.to_csv('cleaned_data.csv')"
   ]
  },
  {
   "cell_type": "code",
   "execution_count": null,
   "metadata": {},
   "outputs": [],
   "source": []
  }
 ],
 "metadata": {
  "kernelspec": {
   "display_name": "Python [conda env:ghana-training]",
   "language": "python",
   "name": "conda-env-ghana-training-py"
  },
  "language_info": {
   "codemirror_mode": {
    "name": "ipython",
    "version": 3
   },
   "file_extension": ".py",
   "mimetype": "text/x-python",
   "name": "python",
   "nbconvert_exporter": "python",
   "pygments_lexer": "ipython3",
   "version": "3.6.5"
  }
 },
 "nbformat": 4,
 "nbformat_minor": 2
}
