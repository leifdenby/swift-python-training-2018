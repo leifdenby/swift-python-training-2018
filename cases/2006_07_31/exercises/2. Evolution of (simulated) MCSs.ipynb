{
 "cells": [
  {
   "cell_type": "code",
   "execution_count": 2,
   "metadata": {},
   "outputs": [],
   "source": [
    "# modules that you are likely to use\n",
    "\n",
    "import xarray as xr\n",
    "import cartopy.crs as ccrs\n",
    "import cartopy\n",
    "import matplotlib.pyplot as plt\n",
    "import numpy as np\n",
    "\n",
    "%matplotlib inline"
   ]
  },
  {
   "cell_type": "markdown",
   "metadata": {},
   "source": [
    "# Precipitation distribution\n",
    "\n",
    "For this section you will use the following skills:\n",
    "\n",
    "1. loading NetCDF files using `xarray.open_dataset` (or multiple files at once with `xarray.open_mfdataset`)\n",
    "2. plotting scalar fields with geographical information such as coastlines and borders in a specific geographic projection using `cartopy`\n",
    "3. doing data-range selection (in space and time) with `xarray.Dataset.sel`\n",
    "4. binning datasets over time with `xarray.Dataset.groupby_bins` and making calculations on these bins\n",
    "5. calculating mean over specific dimensions (e.g. time) with `xarray.Dataset.sel(...).mean(dim='time')`\n",
    "\n",
    "From the paper:\n",
    "\n",
    "> The observations show that\n",
    "an MCS developed on 30 July and produced a large amount\n",
    "of rainfall during the evening of 30 July and early morning\n",
    "of 31 July (black circles in Figure 3(a) and (b)). This system\n",
    "created patches of wet soil in the region 13–18 ◦ N, 4 ◦ W–3 ◦ E.\n",
    "The parent storm initiated on the afternoon of 30 July\n",
    "between 10–15 ◦ N and 5–10 ◦ E and tracked westwards until\n",
    "it dissipated during the afternoon of 31 July between 2 ◦ W\n",
    "and 2 ◦ E (light grey circles in Figure 3(a)–(d)). Even though\n",
    "the details of the model rainfall distribution do not agree\n",
    "well with the observations, the timing, general location and\n",
    "propagation of these two systems are reproduced well by the\n",
    "model (i.e. within 1 ◦ and 1 h, Figures 3(g)–(j)).\n",
    "\n",
    "> The daughter MCS storm initiated during the afternoon\n",
    "of 31 July at 16 ◦ N, 1 ◦ E, developed into a MCS during\n",
    "late afternoon and then propagated towards the west on\n",
    "1 August (marked by the dark grey circles in Figure 3(d)–(f)).\n",
    "The system reached the west coast of Africa on 2 August\n",
    "and began to dissipate (not shown). Again, the model\n",
    "control simulation reproduces the timing, general location\n",
    "and propagation of this system with good accuracy (Figure 3(j)–(l)), but the details of the initiation are different\n",
    "to those suggested by the observations.\n",
    "\n",
    "<img src='../figures/figure-3.png' width=500 />\n",
    "\n",
    "**Figure 3: Six-hourly accumulated precipitation (mm 6 h −1 ) from TRMM3B42 ((a)–(f)) and the model control run ((g) and (l)) from 1800 UTC on\n",
    "30 July 2006 to 0600 UTC on 1 August 2006. The black circles mark the MCS on 30 July that produced the wet soil patches, the light grey circles mark\n",
    "the parent storm and the dark grey circles mark the daughter storm.**"
   ]
  },
  {
   "cell_type": "code",
   "execution_count": 38,
   "metadata": {},
   "outputs": [],
   "source": [
    "# 1. Load the TRMM precipitation dataset (data/TRMM)\n"
   ]
  },
  {
   "cell_type": "code",
   "execution_count": 39,
   "metadata": {},
   "outputs": [],
   "source": [
    "# 2. Create six-hourly accumulated precipitation by first binning and then summing over time\n"
   ]
  },
  {
   "cell_type": "code",
   "execution_count": 40,
   "metadata": {},
   "outputs": [],
   "source": [
    "# 3. Use matplotlib.gridspec.GridSpec to create 1x3 subplots and plot precipitation.\n",
    "#    Add coastlines, borders etc\n"
   ]
  },
  {
   "cell_type": "markdown",
   "metadata": {},
   "source": [
    "## Precip distribution with storm locations"
   ]
  },
  {
   "cell_type": "code",
   "execution_count": 41,
   "metadata": {},
   "outputs": [],
   "source": [
    "# 4. Create dictionary to store locations of storms, eg\n",
    "\n",
    "parent_storm_locations = {\n",
    "    '2006-07-30T18:00:00.000000000': (14, 9),\n",
    "    # ...\n",
    "}\n",
    "daughter_storm_locations = {\n",
    "    '2006-07-31T15:00:00.000000000': (16, 0.5),\n",
    "    # ...\n",
    "}\n",
    "\n",
    "# 5. and function plot a circle marking the storm location at a given time, e.g.\n",
    "\n",
    "def plot_storm_loc(t):\n",
    "    storm_loc = parent_storm_locations.get(t)\n",
    "    # if storm_loc is not None:\n",
    "    #    ax.scatter()"
   ]
  },
  {
   "cell_type": "code",
   "execution_count": 42,
   "metadata": {
    "scrolled": false
   },
   "outputs": [],
   "source": [
    "# 6. Recreate precipitation plot above with storm locations marked\n"
   ]
  },
  {
   "cell_type": "markdown",
   "metadata": {},
   "source": [
    "# Hovmoller plot of precipitation\n",
    "\n",
    "For this section you will use the following skills:\n",
    "\n",
    "1. plotting scalar fields with geographical information such as coastlines and borders in a specific geographic projection using `cartopy`\n",
    "2. doing data-range selection (in space and time) with `xarray.Dataset.sel`\n",
    "3. calculating mean over specific dimensions (e.g. time) with `xarray.Dataset.sel(...).mean(dim='time')`\n",
    "\n",
    "From the paper:\n",
    "\n",
    "> The\n",
    "TRMM3B42 product illustrates the westward propagation\n",
    "of the parent storm (P) between 1200 UTC on 30 July\n",
    "and 1200 UTC on 31 July, followed by the initiation\n",
    "and propagation of the daughter storm (D). The system\n",
    "to the west (WP), which produced the patches of wet\n",
    "soil between 4 ◦ W and 3 ◦ E is also shown in the satellite\n",
    "precipitation. The EPSAT-SG data have a higher temporal\n",
    "and spatial resolution than the TRMM3B42 data and they\n",
    "are derived from a combination of TRMM data, GPCP-\n",
    "1dd (Global Precipitation Climatology Project) data and\n",
    "multiple channels from the SEVIRI (Spinning Enhanced\n",
    "Visible and Infrared Imager) instrument on the MSG\n",
    "(Meteosat Second Generation) satellite. The propagation\n",
    "of the three systems in the EPSAT-SG product is very similar\n",
    "to that in the TRMM3B42 product, giving confidence in\n",
    "the use of TRMM3B42 data for the comparisons with the\n",
    "model.\n",
    "\n",
    "<img src='../figures/figure-4.png'  width=500 />\n",
    "\n",
    "** Figure 4: Hovmoller plots of precipitation rate (averaged between 11 and 18N\n",
    "for (a) TRMM3B42, (b) EPSAT observations and (c)–(f) various\n",
    "MetUM runs. The diagonal lines mark the track of the parent (P) and daughter (D) storms in the observations, the storm that produced the wet patches\n",
    "on 30 July is marked by ‘WP’ in the observations and the dots mark the commencement of deep convection in the observations. **"
   ]
  },
  {
   "cell_type": "code",
   "execution_count": 43,
   "metadata": {},
   "outputs": [],
   "source": [
    "# 1. Select correct domain and timespan and average over latitude to create Hovmoller\n"
   ]
  },
  {
   "cell_type": "markdown",
   "metadata": {},
   "source": [
    "# Horizontal cross-sections of potential temperature\n",
    "\n",
    "For this section you will use the following skills:\n",
    "\n",
    "1. deriving and defining new scalar fields\n",
    "2. plotting scalar fields with geographical information such as coastlines and borders in a specific geographic projection using `cartopy`\n",
    "3. doing data-range selection (in space and time) with `xarray.Dataset.sel`\n",
    "\n",
    "From the paper:\n",
    "\n",
    "> In the control simulation and the\n",
    "simulation initialized at 1200 UTC on 31 July the daughter\n",
    "storm develops in a region of synoptic-scale convergence\n",
    "(marked by the black contour lines and the ‘D’ in Figures 5(a)\n",
    "and 5(b) respectively). This convergence zone forms through\n",
    "the confluence of the moist, southerly winds associated with\n",
    "the parent storm (‘P’) and the westerly winds associated\n",
    "with the cyclonic circulation around the heat low. The\n",
    "leading edge of the simulated cold pool produced by ‘P’ is\n",
    "more than 100 km to the southeast of the daughter storm\n",
    "initiation point at 1200 UTC, on 31 July (e.g. see Figure 16\n",
    "and associated discussion) and therefore cannot directly\n",
    "influence this convergence zone. Kl ̈upfel et al. (2011b)\n",
    "conducted a sensitivity simulation of this case, in which\n",
    "the evaporative cooling is removed from their simulation,\n",
    "which suppresses the cold pool from the parent storm. They\n",
    "demonstrate from this that the parent storm does indeed\n",
    "modify the southerly monsoon flow and is a significant\n",
    "factor in the development of this low-level convergence\n",
    "zone, but this is not caused directly by the cold pool.\n",
    "\n",
    "> The synoptic circulation in the simulation initialized at\n",
    "0000 UTC on 31 July (Figure 5(e) and (f)) is different to the\n",
    "two simulations described above. Neither the parent storm\n",
    "nor the southerly winds north of it are reproduced by the model, and therefore the large-scale convergence zone does not develop. Without this convergence zone the daughter storm is not reproduced (Figure 4(f)).\n",
    "\n",
    "<img src=\"../figures/figure-5.png\" width=500 />\n",
    "\n",
    "** Figure 5: (a), (c) and (e) 925 hPa potential temperature (shading), a contour of 925 hPa convergence (black lines) and 925 hPa wind vectors for the\n",
    "model simulations initialized at 1200 UTC on 30 July (control), 1200 UTC on 31 July and 0000 UTC on 31 July respectively. The contour of convergence\n",
    "in (a) and (e) is at 3 × 10 −5 s −1 and in (c) is at 1 × 10 −5 s −1 . 925 hPa specific humidity (shading) and 925 hPa wind vectors are shown in (b), (d) and\n",
    "(f). All model diagnostics are at 1200 UTC, 31 July 2006. The black diagonal line shows the transect used in other plots. **"
   ]
  },
  {
   "cell_type": "code",
   "execution_count": 44,
   "metadata": {},
   "outputs": [],
   "source": [
    "# 1. Were will again use the ERA-Interim dataset, load with xarray\n"
   ]
  },
  {
   "cell_type": "markdown",
   "metadata": {},
   "source": [
    "Potential temperature $\\theta$ definition:\n",
    "\n",
    "$\\theta = T \\left(\\frac{p_0}{p} \\right)^{R_d/cp_d}$,\n",
    "\n",
    "where the dry gas constant, heat capacity at constant pressure and reference pressure are\n",
    "\n",
    "$R_d$ = 287.04 kJ/kg/K   \n",
    "$c_{p,d}$ = 1004.6 kJ/kg/K  \n",
    "$p_0$ = 1000.0hPa\n",
    "\n",
    "reference: https://rda.ucar.edu/datasets/ds627.1/docs/Pressure_and_isentropic_levels/"
   ]
  },
  {
   "cell_type": "code",
   "execution_count": 45,
   "metadata": {},
   "outputs": [],
   "source": [
    "# 2. Calculate the potential temperature and create a new xarray.DataArray and add it to your dataset\n"
   ]
  },
  {
   "cell_type": "code",
   "execution_count": null,
   "metadata": {},
   "outputs": [],
   "source": [
    "# 3. Create variables to store lat & lon of endpoints of transect line"
   ]
  },
  {
   "cell_type": "code",
   "execution_count": 46,
   "metadata": {
    "scrolled": false
   },
   "outputs": [],
   "source": [
    "# 4. Use matplotlib's GridSpec to plot 2x3 grid of figures with potential temperature and specific \n",
    "# water vapour at the heights and timesteps mentioned above\n",
    "\n",
    "# 5. Add plot of transect line\n"
   ]
  }
 ],
 "metadata": {
  "anaconda-cloud": {},
  "kernelspec": {
   "display_name": "Python 2",
   "language": "python",
   "name": "python2"
  },
  "language_info": {
   "codemirror_mode": {
    "name": "ipython",
    "version": 2
   },
   "file_extension": ".py",
   "mimetype": "text/x-python",
   "name": "python",
   "nbconvert_exporter": "python",
   "pygments_lexer": "ipython2",
   "version": "2.7.15"
  }
 },
 "nbformat": 4,
 "nbformat_minor": 2
}
