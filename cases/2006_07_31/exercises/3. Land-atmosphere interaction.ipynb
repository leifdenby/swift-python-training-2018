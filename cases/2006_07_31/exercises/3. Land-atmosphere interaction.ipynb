{
 "cells": [
  {
   "cell_type": "code",
   "execution_count": 1,
   "metadata": {},
   "outputs": [],
   "source": [
    "# modules that you are likely to use\n",
    "\n",
    "import xarray as xr\n",
    "import cartopy.crs as ccrs\n",
    "import cartopy\n",
    "import matplotlib.pyplot as plt\n",
    "import numpy as np\n",
    "\n",
    "%matplotlib inline"
   ]
  },
  {
   "cell_type": "markdown",
   "metadata": {},
   "source": [
    "# Cloud locations from brightness temperature\n",
    "\n",
    "For this section you will use the following skills:\n",
    "\n",
    "1. loading NetCDF files using `xarray.open_dataset` (or multiple files at once with `xarray.open_mfdataset`)\n",
    "2. plotting scalar fields with geographical information such as coastlines and borders in a specific geographic projection using `cartopy`\n",
    "3. doing data-range selection (in space and time) with `xarray.Dataset.sel`\n",
    "4. doing line (`plt.plot`) and contour plots (`plt.contour`) and adding labels (`plt.text`)\n",
    "\n",
    "From the paper:\n",
    "\n",
    "> At 1300 UTC, 31 July 2006 the parent storm is clearly visible in the satellite imagery (marked with a ‘P’); it then tracked westwards during the afternoon, reaching 3°W by 1800 UTC. The location of the daughter storm is illustrated on Figure 6(c) and (d) (marked with a ‘D’); it initiated over relatively dry soil, with a wet patch of soil immediately to the southeast and an additional wet patch approximately 80 km to the northwest (shown in more detail in Figure 3; Taylor et al., 2010). By late afternoon (Figure 6(d)) the daughter storm had increased in size and most of the subsequent convection in the system occurred over wet soil (Taylor et al., 2010).\n",
    "\n",
    "<img src='../figures/figure-6.jpg' width=500 />\n",
    "\n",
    "**Figure 6: The top panels show soil moisture in the uppermost layer at 1300 UTC, 31 July for (a) the satellite observations, (e) the control simulation and\n",
    "(i) the ASSIM simulation. Note the difference in units between the observed and simulated soil moisture. Panels (b)–(d) show observed soil moisture\n",
    "(contour at 5%) and MSG brightness temperatures**"
   ]
  },
  {
   "cell_type": "code",
   "execution_count": 2,
   "metadata": {},
   "outputs": [],
   "source": [
    "# Load merged IR dataset"
   ]
  },
  {
   "cell_type": "code",
   "execution_count": 3,
   "metadata": {},
   "outputs": [],
   "source": [
    "# Create a subplots for each time and plot brightness temperature and land boundaries"
   ]
  },
  {
   "cell_type": "markdown",
   "metadata": {},
   "source": [
    "# Soil moisture and wind vectors\n",
    "\n",
    "\n",
    "For this section you will use the following skills:\n",
    "\n",
    "1. loading NetCDF files using `xarray.open_dataset` (or multiple files at once with `xarray.open_mfdataset`)\n",
    "2. plotting scalar fields with geographical information such as coastlines and borders in a specific geographic projection using `cartopy`\n",
    "3. doing data-range selection (in space and time) with `xarray.Dataset.sel`\n",
    "4. doing *filled* contour plots (`plt.contourf`)\n",
    "\n",
    "\n",
    "From the paper:\n",
    "\n",
    "> The initiation times and locations of the new convective cells in relation to the soil‐moisture heterogeneity is shown in more detail in Figure 7. The times were diagnosed subjectively using hourly plots of model rainfall rate. When the rainfall rate associated with a particular cell became continuous over two intervals of 1 h, and prevailed over a region with a radius greater than ∼20 km, an initialization time and location was noted on the plot. The preference for initiation over soil‐moisture gradients is similar in the two runs, but slightly less widespread in the ASSIM run, which is more consistent with the observations.\n",
    "\n",
    "> In Figure 7 the initiation point of the main daughter storm is marked by ‘14’ at 14.8°N, 2°E in both the control and ASSIM simulations. The location of the parent storm at 1200 UTC is shown on the plots by the thick white contour at 12–14°N, 1–3°E. The daughter storm initiates over a region of dry soil, which is in the same location as the significant boundary‐layer convergence cause by the confluence of the moist southerly monsoon winds with the westerly winds to the south of the Saharan heat low.\n",
    "\n",
    "<img src='../figures/figure-7.jpg' width=500 />\n",
    "\n",
    "** Figure 7: Soil moisture and 925 hPa wind vectors at 1200 UTC, 31 July 2006 from (a) the control run and (b) the ASSIM run at 0600 UTC 31 July 2006. The thick white contour indicates the position of the parent storm at 1200 UTC. The white boxes indicate the locations of the first initiations and contain the times in UTC of the first significant rainfall at each location. The black line shows the diagonal transect.  **"
   ]
  },
  {
   "cell_type": "markdown",
   "metadata": {},
   "source": [
    "# Tephigram\n",
    "\n",
    "\n",
    "From the paper:\n",
    "\n",
    "> The differences in boundary‐layer structure over the wet and dry soil are illustrated by a tephigram of model diagnostics at 1100 UTC, 31 July (Figure 8). Over the dry soil (at 15°N, 1.7°E, solid lines) the boundary layer is deeper (extends to 850 hPa, compared with 925 hPa) and ∼6°C warmer than over the wet soil (16°N, 1°E, dashed lines). Contrary to what would be expected, the lower atmosphere (925 to 650 hPa) is more humid over the dry soil than over the wet soil. This increase in low‐level humidity is caused by the monsoon flow, which transports moist air from the south. The monsoon flow does not reach the location of the wet soil (16°N, 1°E in Figure 8) and thus the humidity at that location is lower. The higher temperatures (and to a much lesser extent the humidities) over the dry soil cause the CAPE to be approximately double that of the wet soil (1074 J kg−1, compared with 529 J kg−1). CIN is also much lower over the dry soil (16 J kg−1, compared with 163 J kg−1). The low CIN, high CAPE combination of the monsoon air over the dry soil provides suitable conditions for the development of deep convection. It was this thermodynamic profile and the uplift provided by the convergence zone that initiated the convection that later developed into the daughter storm.\n",
    "\n",
    "<img src='../figures/figure-8.jpg' width=500 />\n",
    "\n",
    "** Figure 8: Tephigram of model diagnostics from the control simulation at 1100 UTC, 31 July 2006 over dry soil at 15.0°N, 1.7°E (solid lines) and over the adjacent wet soil at 16.0°N, 1°E (dashed lines). Convective available potential energy values are 1074 J kg−1 over the dry soil and 529 J kg−1 over the wet soil. Convective inhibition values are 16 J kg−1 over the dry soil and 163 J kg−1 over the wet soil. **"
   ]
  },
  {
   "cell_type": "code",
   "execution_count": 4,
   "metadata": {},
   "outputs": [],
   "source": [
    "# if not already available install the `tephigram` package with\n",
    "# `pip install tephigram`"
   ]
  },
  {
   "cell_type": "markdown",
   "metadata": {},
   "source": [
    "# Values along transect\n",
    "\n",
    "In this section you will use the following skills:\n",
    "\n",
    "1. Defining a new grid and regridding variables onto it\n",
    "2. Calculate integral values, e.g. profile integrals like CAPE (Convectively Available Potential Temperature)\n",
    "\n",
    "From the paper:\n",
    "\n",
    "> Figure 9 illustrates the change in a number of model diagnostics along a southeast to northwest transect (shown by the straight lines in Figures 5–7) at 1100 UTC. This transect was designed to incorporate both the parent and daughter storm locations, as well as the wet patch at 16°N. The location of the parent storm in both the control and ASSIM simulations is between 11 and 13°N, which is shown by the model medium cloud fraction in Figure 9(a). This storm is precipitating and thus there is wet soil beneath it (Figure 9(b)). The region of wet soil produced by the MCS on the previous day is at 16°N. The soil moisture gradients are greater in the control run; the wet patch spans only ∼100 km, compared with more than 300 km in the ASSIM experiment. Moisture at the surface has a strong influence on the surface turbulent heat fluxes (Figure 9(c)). In the control run the sensible heat flux (H) is low over the wet soil patch at 16°N and higher over the drier soil to the north. The latent heat flux shows the opposite trend; it is higher over the wet patch at 16°N and lower over the drier soil. The fluxes in the ASSIM simulation are more similar across the soil‐moisture gradients; both the sensible and latent heat fluxes vary by less than 150 W m−2 over the wet and dry soil.\n",
    "\n",
    "<img src='../figures/figure-9.jpg' width=500 />\n",
    "\n",
    "**Figure 9: Variables at 1100 UTC, 31 July 2006 along the diagonal: (a) medium cloud fraction, (b) soil moisture in the uppermost layer, (c) surface sensible (H) and latent (E) heat fluxes, (d) surface (Ts) and near‐surface (T1.5m) temperatures, (e) near‐surface specific humidity, (f) 10 m wind speed, (g) convective available potential energy (CAPE), (h) convective inhibition (CIN). Solid lines represent diagnostics from the control and the dashed lines represent diagnostics from the ASSIM simulation. The vertical black line marks the position of the cold pool on the diagonal section. **"
   ]
  },
  {
   "cell_type": "code",
   "execution_count": null,
   "metadata": {},
   "outputs": [],
   "source": []
  }
 ],
 "metadata": {
  "anaconda-cloud": {},
  "kernelspec": {
   "display_name": "Python [conda env:ghana-training]",
   "language": "python",
   "name": "conda-env-ghana-training-py"
  },
  "language_info": {
   "codemirror_mode": {
    "name": "ipython",
    "version": 3
   },
   "file_extension": ".py",
   "mimetype": "text/x-python",
   "name": "python",
   "nbconvert_exporter": "python",
   "pygments_lexer": "ipython3",
   "version": "3.6.5"
  }
 },
 "nbformat": 4,
 "nbformat_minor": 2
}
